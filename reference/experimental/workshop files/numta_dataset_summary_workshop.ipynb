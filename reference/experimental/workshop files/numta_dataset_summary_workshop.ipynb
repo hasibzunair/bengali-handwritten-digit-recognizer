{
 "cells": [
  {
   "cell_type": "code",
   "execution_count": 1,
   "metadata": {
    "_cell_guid": "b1076dfc-b9ad-4769-8c92-a6c4dae69d19",
    "_uuid": "8f2839f25d086af736a60e9eeb907d3b93b6e0e5"
   },
   "outputs": [
    {
     "name": "stdout",
     "output_type": "stream",
     "text": [
      "['testing-d', 'testing-b', 'testing-augc', 'training-a', 'training-e', 'training-b', 'training-c', 'training-a.csv', 'training-d.csv', 'testing-f', 'training-d', 'testing-e', 'training-e.csv', 'training-c.csv', 'training-b.csv', 'testing-a', 'testing-auga', 'testing-c']\n"
     ]
    }
   ],
   "source": [
    "# This Python 3 environment comes with many helpful analytics libraries installed\n",
    "# It is defined by the kaggle/python docker image: https://github.com/kaggle/docker-python\n",
    "# For example, here's several helpful packages to load in \n",
    "# Importing necessary libraries\n",
    "import os\n",
    "import glob\n",
    "import numpy as np # linear algebra\n",
    "import pandas as pd # data processing, CSV file I/O (e.g. pd.read_csv)\n",
    "\n",
    "# Input data files are available in the \"../input/\" directory( My PC : /home/hasib/Hasib/Others/NumtaDB_with_aug).\n",
    "# For example, running this (by clicking run or pressing Shift+Enter) will list the files in the input directory\n",
    "data_dir=os.path.join('..','/home/hasib/Hasib/Others/NumtaDB_with_aug')\n",
    "print(os.listdir(data_dir))\n",
    "\n",
    "# Any results you write to the current directory are saved as output."
   ]
  },
  {
   "cell_type": "code",
   "execution_count": 2,
   "metadata": {
    "_uuid": "938a755edc23e8a97f24d0980e58d00dd89f7960"
   },
   "outputs": [],
   "source": [
    "paths_train_a=glob.glob(os.path.join(data_dir,'training-a','*.png'))\n",
    "paths_train_b=glob.glob(os.path.join(data_dir,'training-b','*.png'))\n",
    "paths_train_e=glob.glob(os.path.join(data_dir,'training-e','*.png'))\n",
    "paths_train_c=glob.glob(os.path.join(data_dir,'training-c','*.png'))\n",
    "paths_train_d=glob.glob(os.path.join(data_dir,'training-d','*.png'))\n",
    "\n",
    "paths_test_a=glob.glob(os.path.join(data_dir,'testing-a','*.png'))\n",
    "paths_test_b=glob.glob(os.path.join(data_dir,'testing-b','*.png'))\n",
    "paths_test_e=glob.glob(os.path.join(data_dir,'testing-e','*.png'))\n",
    "paths_test_c=glob.glob(os.path.join(data_dir,'testing-c','*.png'))\n",
    "paths_test_d=glob.glob(os.path.join(data_dir,'testing-d','*.png'))\n",
    "paths_test_f=glob.glob(os.path.join(data_dir,'testing-f','*.png'))+glob.glob(os.path.join(data_dir,'Final_DB','testing-f','*.jpg'))\n",
    "paths_test_auga=glob.glob(os.path.join(data_dir,'testing-auga','*.png'))\n",
    "paths_test_augc=glob.glob(os.path.join(data_dir,'testing-augc','*.png'))\n",
    "\n",
    "# path_label_train_a=os.path.join(data_dir,'training-a.csv')\n",
    "# path_label_train_b=os.path.join(data_dir,'training-b.csv')\n",
    "# path_label_train_e=os.path.join(data_dir,'training-e.csv')\n",
    "# path_label_train_c=os.path.join(data_dir,'training-c.csv')\n",
    "# path_label_train_d=os.path.join(data_dir,'training-d.csv')"
   ]
  },
  {
   "cell_type": "code",
   "execution_count": 3,
   "metadata": {
    "_cell_guid": "79c7e3d0-c299-4dcb-8224-4455121ee9b0",
    "_uuid": "d629ff2d2480ee46fbb7e2d37f6b5fab8052498a"
   },
   "outputs": [
    {
     "data": {
      "text/html": [
       "<div>\n",
       "<style scoped>\n",
       "    .dataframe tbody tr th:only-of-type {\n",
       "        vertical-align: middle;\n",
       "    }\n",
       "\n",
       "    .dataframe tbody tr th {\n",
       "        vertical-align: top;\n",
       "    }\n",
       "\n",
       "    .dataframe thead th {\n",
       "        text-align: right;\n",
       "    }\n",
       "</style>\n",
       "<table border=\"1\" class=\"dataframe\">\n",
       "  <thead>\n",
       "    <tr style=\"text-align: right;\">\n",
       "      <th></th>\n",
       "      <th>Train Samples</th>\n",
       "      <th>Test Samples</th>\n",
       "      <th>Total</th>\n",
       "      <th>Test Ratio</th>\n",
       "    </tr>\n",
       "  </thead>\n",
       "  <tbody>\n",
       "    <tr>\n",
       "      <th>a</th>\n",
       "      <td>19702</td>\n",
       "      <td>3489</td>\n",
       "      <td>23191</td>\n",
       "      <td>0.201095</td>\n",
       "    </tr>\n",
       "    <tr>\n",
       "      <th>b</th>\n",
       "      <td>359</td>\n",
       "      <td>69</td>\n",
       "      <td>428</td>\n",
       "      <td>0.003977</td>\n",
       "    </tr>\n",
       "    <tr>\n",
       "      <th>c</th>\n",
       "      <td>24298</td>\n",
       "      <td>4381</td>\n",
       "      <td>28679</td>\n",
       "      <td>0.252507</td>\n",
       "    </tr>\n",
       "    <tr>\n",
       "      <th>d</th>\n",
       "      <td>10908</td>\n",
       "      <td>1948</td>\n",
       "      <td>12856</td>\n",
       "      <td>0.112277</td>\n",
       "    </tr>\n",
       "    <tr>\n",
       "      <th>e</th>\n",
       "      <td>16778</td>\n",
       "      <td>2970</td>\n",
       "      <td>19748</td>\n",
       "      <td>0.171182</td>\n",
       "    </tr>\n",
       "    <tr>\n",
       "      <th>f</th>\n",
       "      <td>0</td>\n",
       "      <td>219</td>\n",
       "      <td>219</td>\n",
       "      <td>0.012622</td>\n",
       "    </tr>\n",
       "    <tr>\n",
       "      <th>auga</th>\n",
       "      <td>0</td>\n",
       "      <td>2168</td>\n",
       "      <td>2168</td>\n",
       "      <td>0.124957</td>\n",
       "    </tr>\n",
       "    <tr>\n",
       "      <th>augc</th>\n",
       "      <td>0</td>\n",
       "      <td>2106</td>\n",
       "      <td>2106</td>\n",
       "      <td>0.121383</td>\n",
       "    </tr>\n",
       "  </tbody>\n",
       "</table>\n",
       "</div>"
      ],
      "text/plain": [
       "      Train Samples  Test Samples  Total  Test Ratio\n",
       "a             19702          3489  23191    0.201095\n",
       "b               359            69    428    0.003977\n",
       "c             24298          4381  28679    0.252507\n",
       "d             10908          1948  12856    0.112277\n",
       "e             16778          2970  19748    0.171182\n",
       "f                 0           219    219    0.012622\n",
       "auga              0          2168   2168    0.124957\n",
       "augc              0          2106   2106    0.121383"
      ]
     },
     "execution_count": 3,
     "metadata": {},
     "output_type": "execute_result"
    }
   ],
   "source": [
    "total_test=len(paths_test_a)+len(paths_test_b)+len(paths_test_c)+ len(paths_test_d)+\\\n",
    "len(paths_test_e)+ len(paths_test_f)+len(paths_test_auga)+ len(paths_test_augc)\n",
    "df_summary=pd.DataFrame(data={\n",
    "                        'Train Samples':[len(paths_train_a),len(paths_train_b),\n",
    "                                         len(paths_train_c),len(paths_train_d),\n",
    "                                         len(paths_train_e),0,0,0,\n",
    "                                        ],\n",
    "                        'Test Samples':[len(paths_test_a),len(paths_test_b),\n",
    "                                        len(paths_test_c), len(paths_test_d),\n",
    "                                        len(paths_test_e), len(paths_test_f),\n",
    "                                        len(paths_test_auga), len(paths_test_augc),\n",
    "                                       ],\n",
    "                        'Total':[len(paths_train_a)+len(paths_test_a),\n",
    "                                 len(paths_train_b)+len(paths_test_b),\n",
    "                                 len(paths_train_c)+len(paths_test_c),\n",
    "                                 len(paths_train_d)+len(paths_test_d),\n",
    "                                 len(paths_train_e)+len(paths_test_e),\n",
    "                                 len(paths_test_f),len(paths_test_auga), len(paths_test_augc)\n",
    "                                ],\n",
    "\n",
    "                        'Test Ratio':[len(paths_test_a)/total_test,len(paths_test_b)/total_test,\n",
    "                                      len(paths_test_c)/total_test, len(paths_test_d)/total_test,\n",
    "                                      len(paths_test_e)/total_test, len(paths_test_f)/total_test,\n",
    "                                      len(paths_test_auga)/total_test,len(paths_test_augc)/total_test\n",
    "                                    ],\n",
    "                        },\n",
    "    \n",
    "                        index=['a','b','c','d','e','f','auga','augc'],\n",
    "                        columns=['Train Samples',\n",
    "                                 'Test Samples',\n",
    "                                 'Total',\n",
    "                                 'Test Ratio'\n",
    "                                ]                    \n",
    "            )\n",
    "df_summary"
   ]
  },
  {
   "cell_type": "code",
   "execution_count": null,
   "metadata": {},
   "outputs": [],
   "source": []
  }
 ],
 "metadata": {
  "kernelspec": {
   "display_name": "Python 3",
   "language": "python",
   "name": "python3"
  },
  "language_info": {
   "codemirror_mode": {
    "name": "ipython",
    "version": 3
   },
   "file_extension": ".py",
   "mimetype": "text/x-python",
   "name": "python",
   "nbconvert_exporter": "python",
   "pygments_lexer": "ipython3",
   "version": "3.4.3"
  }
 },
 "nbformat": 4,
 "nbformat_minor": 1
}
