{
 "cells": [
  {
   "cell_type": "markdown",
   "metadata": {},
   "source": [
    "# Import necessary libraries"
   ]
  },
  {
   "cell_type": "code",
   "execution_count": 2,
   "metadata": {
    "_cell_guid": "c386cfd1-3d2e-4bd0-b1bf-2c72698afe96",
    "_uuid": "4cdc8ebf9bc167498cace36993800c819556eb04"
   },
   "outputs": [],
   "source": [
    "import numpy as np\n",
    "import os\n",
    "import glob\n",
    "import cv2\n",
    "import matplotlib.pyplot as plt\n",
    "import pandas as pd\n",
    "import pickle\n",
    "\n",
    "from keras.utils import to_categorical, plot_model\n",
    "from keras.layers import Dense, Input, Conv2D, Flatten, MaxPool2D, Activation\n",
    "from keras.models import Model, Sequential\n",
    "from keras.callbacks import ModelCheckpoint\n",
    "from keras.optimizers import Adam\n",
    "from keras import backend as K\n"
   ]
  },
  {
   "cell_type": "markdown",
   "metadata": {},
   "source": [
    "# Setting up variables"
   ]
  },
  {
   "cell_type": "code",
   "execution_count": 3,
   "metadata": {
    "_cell_guid": "a42ae61e-565e-48ae-b618-370dc4bd3718",
    "_uuid": "8f087bcd8bb6c49f440bd5bea4769ddd692d291e"
   },
   "outputs": [],
   "source": [
    "FIG_WIDTH=20 \n",
    "ROW_HEIGHT=3 \n",
    "RESIZE_DIM=28 "
   ]
  },
  {
   "cell_type": "markdown",
   "metadata": {},
   "source": [
    "# Setting up directories for training and testing datas"
   ]
  },
  {
   "cell_type": "code",
   "execution_count": 4,
   "metadata": {
    "_cell_guid": "e786b5c7-7f0b-42d4-a3e4-fd4b7d66fbd9",
    "_uuid": "a1454525b854abf797ea8763431da25e7aa99f92"
   },
   "outputs": [],
   "source": [
    "data_dir=os.path.join('..','/home/hasib/Hasib/Others/NumtaDB_with_aug')\n",
    "paths_train_a=glob.glob(os.path.join(data_dir,'training-a','*.png'))\n",
    "paths_train_b=glob.glob(os.path.join(data_dir,'training-b','*.png'))\n",
    "paths_train_e=glob.glob(os.path.join(data_dir,'training-e','*.png'))\n",
    "paths_train_c=glob.glob(os.path.join(data_dir,'training-c','*.png'))\n",
    "paths_train_d=glob.glob(os.path.join(data_dir,'training-d','*.png'))\n",
    "paths_train_all=paths_train_a+paths_train_b+paths_train_c+paths_train_d+paths_train_e\n",
    "\n",
    "paths_test_a=glob.glob(os.path.join(data_dir,'testing-a','*.png'))\n",
    "paths_test_b=glob.glob(os.path.join(data_dir,'testing-b','*.png'))\n",
    "paths_test_e=glob.glob(os.path.join(data_dir,'testing-e','*.png'))\n",
    "paths_test_c=glob.glob(os.path.join(data_dir,'testing-c','*.png'))\n",
    "paths_test_d=glob.glob(os.path.join(data_dir,'testing-d','*.png'))\n",
    "paths_test_f=glob.glob(os.path.join(data_dir,'testing-f','*.png'))+glob.glob(os.path.join(data_dir,'testing-f','*.JPG'))\n",
    "paths_test_auga=glob.glob(os.path.join(data_dir,'testing-auga','*.png'))\n",
    "paths_test_augc=glob.glob(os.path.join(data_dir,'testing-augc','*.png'))\n",
    "paths_test_all=paths_test_a+paths_test_b+paths_test_c+paths_test_d+paths_test_e+paths_test_f+paths_test_auga+paths_test_augc\n",
    "\n",
    "path_label_train_a=os.path.join(data_dir,'training-a.csv')\n",
    "path_label_train_b=os.path.join(data_dir,'training-b.csv')\n",
    "path_label_train_e=os.path.join(data_dir,'training-e.csv')\n",
    "path_label_train_c=os.path.join(data_dir,'training-c.csv')\n",
    "path_label_train_d=os.path.join(data_dir,'training-d.csv')"
   ]
  },
  {
   "cell_type": "markdown",
   "metadata": {},
   "source": [
    "# Useful functions "
   ]
  },
  {
   "cell_type": "code",
   "execution_count": 5,
   "metadata": {
    "_cell_guid": "87d7081d-aa4a-48b9-b1a4-575ceceb2eb3",
    "_uuid": "aa19885280eef5dfed1f8378d668ea7f025a7925"
   },
   "outputs": [],
   "source": [
    "def get_key(path):\n",
    "    key=path.split(sep=os.sep)[-1]\n",
    "    return key\n",
    "\n",
    "def get_data(paths_img,path_label=None,resize_dim=None):\n",
    "    X=[] \n",
    "    for i,path in enumerate(paths_img):\n",
    "        img=cv2.imread(path,cv2.IMREAD_COLOR) \n",
    "        img=cv2.cvtColor(img,cv2.COLOR_BGR2RGB)\n",
    "        if resize_dim is not None:\n",
    "            img=cv2.resize(img,(resize_dim,resize_dim),interpolation=cv2.INTER_AREA) \n",
    "        X.append(img) \n",
    "      \n",
    "        if i==len(paths_img)-1:\n",
    "            end='\\n'\n",
    "        else: end='\\r'\n",
    "        print('processed {}/{}'.format(i+1,len(paths_img)),end=end)\n",
    "        \n",
    "    X=np.array(X) \n",
    "    if  path_label is None:\n",
    "        return X\n",
    "    else:\n",
    "        df = pd.read_csv(path_label) \n",
    "        df=df.set_index('filename') \n",
    "        y_label=[df.loc[get_key(path)]['digit'] for path in  paths_img] \n",
    "        y=to_categorical(y_label,10) \n",
    "        return X, y\n",
    "\n",
    "def imshow_group(X,y=None,y_pred=None,n_per_row=10):\n",
    "    n_sample=len(X)\n",
    "    img_dim=X.shape[1]\n",
    "    j=np.ceil(n_sample/n_per_row)\n",
    "    fig=plt.figure(figsize=(FIG_WIDTH,ROW_HEIGHT*j))\n",
    "    for i,img in enumerate(X):\n",
    "        plt.subplot(j,n_per_row,i+1)\n",
    "        plt.imshow(img)\n",
    "        if y is not None:\n",
    "                plt.title('true label: {}'.format(np.argmax(y[i])))\n",
    "        if y_pred is not None:\n",
    "            top_n=3 # top 3 predictions with highest probabilities\n",
    "            ind_sorted=np.argsort(y_pred[i])[::-1]\n",
    "            h=img_dim+4\n",
    "            for k in range(top_n):\n",
    "                string='pred: {} ({:.0f}%)\\n'.format(ind_sorted[k],y_pred[i,ind_sorted[k]]*100)\n",
    "                plt.text(img_dim/2, h, string, horizontalalignment='center',verticalalignment='center')\n",
    "                h+=4\n",
    "        plt.axis('off')\n",
    "    plt.show()\n",
    "def create_submission(predictions,keys,path):\n",
    "    result = pd.DataFrame(\n",
    "        predictions,\n",
    "        columns=['label'],\n",
    "        index=keys\n",
    "        )\n",
    "    result.index.name='key'\n",
    "    result.to_csv(path, index=True)"
   ]
  },
  {
   "cell_type": "markdown",
   "metadata": {},
   "source": [
    "# Pre-process training & testing data"
   ]
  },
  {
   "cell_type": "code",
   "execution_count": 10,
   "metadata": {
    "_uuid": "e4d65fdcac01f5d367ce863d79d22fbbf9b36b86"
   },
   "outputs": [
    {
     "name": "stdout",
     "output_type": "stream",
     "text": [
      "processed 19702/19702\n",
      "processed 359/359\n",
      "processed 24298/24298\n",
      "processed 10908/10908\n",
      "processed 16778/16778\n"
     ]
    }
   ],
   "source": [
    "X_train_a,y_train_a=get_data(paths_train_a,path_label_train_a,resize_dim=RESIZE_DIM)\n",
    "X_train_b,y_train_b=get_data(paths_train_b,path_label_train_b,resize_dim=RESIZE_DIM)\n",
    "X_train_c,y_train_c=get_data(paths_train_c,path_label_train_c,resize_dim=RESIZE_DIM)\n",
    "X_train_d,y_train_d=get_data(paths_train_d,path_label_train_d,resize_dim=RESIZE_DIM)\n",
    "X_train_e,y_train_e=get_data(paths_train_e,path_label_train_e,resize_dim=RESIZE_DIM)"
   ]
  },
  {
   "cell_type": "code",
   "execution_count": 11,
   "metadata": {
    "_uuid": "0d111deae34f1e29aca3417f5eaa47d0f06067ba"
   },
   "outputs": [
    {
     "data": {
      "text/plain": [
       "((72045, 28, 28, 3), (72045, 10))"
      ]
     },
     "execution_count": 11,
     "metadata": {},
     "output_type": "execute_result"
    }
   ],
   "source": [
    "X_train_all=np.concatenate((X_train_a,X_train_b,X_train_c,X_train_d,X_train_e),axis=0)\n",
    "y_train_all=np.concatenate((y_train_a,y_train_b,y_train_c,y_train_d,y_train_e),axis=0)\n",
    "X_train_all.shape, y_train_all.shape"
   ]
  },
  {
   "cell_type": "code",
   "execution_count": 12,
   "metadata": {
    "_cell_guid": "620a40d9-36f8-49fa-b96c-b823999daad0",
    "_uuid": "1d06bb5aaa056f719a918be3206c3f6b2e738e0b",
    "scrolled": true
   },
   "outputs": [
    {
     "name": "stdout",
     "output_type": "stream",
     "text": [
      "processed 3489/3489\n",
      "processed 69/69\n",
      "processed 4381/4381\n",
      "processed 1948/1948\n",
      "processed 2970/2970\n",
      "processed 495/495\n",
      "processed 2168/2168\n",
      "processed 2106/2106\n"
     ]
    }
   ],
   "source": [
    "X_test_a=get_data(paths_test_a,resize_dim=RESIZE_DIM)\n",
    "X_test_b=get_data(paths_test_b,resize_dim=RESIZE_DIM)\n",
    "X_test_c=get_data(paths_test_c,resize_dim=RESIZE_DIM)\n",
    "X_test_d=get_data(paths_test_d,resize_dim=RESIZE_DIM)\n",
    "X_test_e=get_data(paths_test_e,resize_dim=RESIZE_DIM)\n",
    "X_test_f=get_data(paths_test_f,resize_dim=RESIZE_DIM)\n",
    "X_test_auga=get_data(paths_test_auga,resize_dim=RESIZE_DIM)\n",
    "X_test_augc=get_data(paths_test_augc,resize_dim=RESIZE_DIM)"
   ]
  },
  {
   "cell_type": "code",
   "execution_count": 13,
   "metadata": {
    "_uuid": "59775980271bb7f31fea8f546f7e8189724f6d49"
   },
   "outputs": [],
   "source": [
    "X_test_all=np.concatenate((X_test_a,X_test_b,X_test_c,X_test_d,X_test_e,X_test_f,X_test_auga,X_test_augc))"
   ]
  },
  {
   "cell_type": "code",
   "execution_count": 14,
   "metadata": {},
   "outputs": [
    {
     "data": {
      "text/plain": [
       "(17626, 28, 28, 3)"
      ]
     },
     "execution_count": 14,
     "metadata": {},
     "output_type": "execute_result"
    }
   ],
   "source": [
    "X_test_all.shape"
   ]
  },
  {
   "cell_type": "markdown",
   "metadata": {},
   "source": [
    "# Split between training and validation data\n",
    "\n",
    "Next, we are going to randomly choose 80% of the training data and use it to train our neural network. The remaining 20% images are going to be our validation data."
   ]
  },
  {
   "cell_type": "code",
   "execution_count": 15,
   "metadata": {
    "_cell_guid": "45550d4b-7b11-4277-b968-3cbc74161537",
    "_uuid": "ec1470e959cf087a27d9ca3d349f2f5dd8687528"
   },
   "outputs": [],
   "source": [
    "indices=list(range(len(X_train_all)))\n",
    "np.random.seed(42)\n",
    "np.random.shuffle(indices)\n",
    "\n",
    "ind=int(len(indices)*0.80)\n",
    "\n",
    "# train data\n",
    "X_train=X_train_all[indices[:ind]] \n",
    "y_train=y_train_all[indices[:ind]]\n",
    "# validation data\n",
    "X_val=X_train_all[indices[-(len(indices)-ind):]] \n",
    "y_val=y_train_all[indices[-(len(indices)-ind):]]\n"
   ]
  },
  {
   "cell_type": "markdown",
   "metadata": {},
   "source": [
    "# Model based on LeNet Architecture\n",
    "\n",
    "Made modification the the model"
   ]
  },
  {
   "cell_type": "code",
   "execution_count": 26,
   "metadata": {
    "_cell_guid": "1fae5204-6082-410a-a111-375880df9e70",
    "_uuid": "8135539c275b5af142096a33acfba7cc30aa2f8f"
   },
   "outputs": [
    {
     "name": "stdout",
     "output_type": "stream",
     "text": [
      "_________________________________________________________________\n",
      "Layer (type)                 Output Shape              Param #   \n",
      "=================================================================\n",
      "input_2 (InputLayer)         (None, 28, 28, 3)         0         \n",
      "_________________________________________________________________\n",
      "conv2d_4 (Conv2D)            (None, 24, 24, 8)         608       \n",
      "_________________________________________________________________\n",
      "max_pooling2d_4 (MaxPooling2 (None, 12, 12, 8)         0         \n",
      "_________________________________________________________________\n",
      "conv2d_5 (Conv2D)            (None, 10, 10, 16)        1168      \n",
      "_________________________________________________________________\n",
      "max_pooling2d_5 (MaxPooling2 (None, 5, 5, 16)          0         \n",
      "_________________________________________________________________\n",
      "conv2d_6 (Conv2D)            (None, 3, 3, 32)          4640      \n",
      "_________________________________________________________________\n",
      "max_pooling2d_6 (MaxPooling2 (None, 1, 1, 32)          0         \n",
      "_________________________________________________________________\n",
      "conv2d_7 (Conv2D)            (None, 1, 1, 64)          18496     \n",
      "_________________________________________________________________\n",
      "max_pooling2d_7 (MaxPooling2 (None, 1, 1, 64)          0         \n",
      "_________________________________________________________________\n",
      "conv2d_8 (Conv2D)            (None, 1, 1, 64)          36928     \n",
      "_________________________________________________________________\n",
      "max_pooling2d_8 (MaxPooling2 (None, 1, 1, 64)          0         \n",
      "_________________________________________________________________\n",
      "conv2d_9 (Conv2D)            (None, 1, 1, 64)          36928     \n",
      "_________________________________________________________________\n",
      "max_pooling2d_9 (MaxPooling2 (None, 1, 1, 64)          0         \n",
      "_________________________________________________________________\n",
      "conv2d_10 (Conv2D)           (None, 1, 1, 64)          36928     \n",
      "_________________________________________________________________\n",
      "max_pooling2d_10 (MaxPooling (None, 1, 1, 64)          0         \n",
      "_________________________________________________________________\n",
      "flatten_2 (Flatten)          (None, 64)                0         \n",
      "_________________________________________________________________\n",
      "dense_3 (Dense)              (None, 64)                4160      \n",
      "_________________________________________________________________\n",
      "dense_4 (Dense)              (None, 10)                650       \n",
      "_________________________________________________________________\n",
      "activation_2 (Activation)    (None, 10)                0         \n",
      "=================================================================\n",
      "Total params: 140,506\n",
      "Trainable params: 140,506\n",
      "Non-trainable params: 0\n",
      "_________________________________________________________________\n"
     ]
    }
   ],
   "source": [
    "def get_model():\n",
    "    input_layer=Input(shape=(RESIZE_DIM,RESIZE_DIM,3))\n",
    "    \n",
    "    x=Conv2D(filters=8,kernel_size=(5,5),padding='valid', activation='relu')(input_layer)\n",
    "    x=MaxPool2D(pool_size=(2,2),strides=2,padding='valid')(x)\n",
    "    \n",
    "    x=Conv2D(filters=16,kernel_size=(3,3),padding='valid', activation='relu')(x)\n",
    "    x=MaxPool2D(pool_size=(2,2),strides=2,padding='valid')(x)\n",
    "    \n",
    "    x=Conv2D(filters=32,kernel_size=(3,3),padding='valid', activation='relu')(x)\n",
    "    x=MaxPool2D(pool_size=(2,2),strides=2,padding='valid')(x)\n",
    "    \n",
    "    #new\n",
    "    x=Conv2D(filters=64,kernel_size=(3,3),padding='same', activation='relu')(x)\n",
    "    x=MaxPool2D(pool_size=(2,2),strides=2,padding='same')(x)\n",
    "    \n",
    "    x=Conv2D(filters=64,kernel_size=(3,3),padding='same', activation='relu')(x)\n",
    "    x=MaxPool2D(pool_size=(2,2),strides=2,padding='same')(x)\n",
    "    \n",
    "    x=Conv2D(filters=64,kernel_size=(3,3),padding='same', activation='relu')(x)\n",
    "    x=MaxPool2D(pool_size=(2,2),strides=2,padding='same')(x)\n",
    "    \n",
    "    x=Conv2D(filters=64,kernel_size=(3,3),padding='same', activation='relu')(x)\n",
    "    x=MaxPool2D(pool_size=(2,2),strides=2,padding='same')(x)\n",
    "    \n",
    "    x=Flatten()(x)\n",
    "    \n",
    "    x=Dense(units=64)(x)\n",
    "    x=Dense(units=10)(x) \n",
    "    \n",
    "    output_layer=Activation('softmax')(x)\n",
    "    model=Model(inputs=input_layer,outputs=output_layer)\n",
    "    model.compile(loss='categorical_crossentropy',metrics=['accuracy'],optimizer='adam')\n",
    "    return model\n",
    "model=get_model()\n",
    "model.summary()\n"
   ]
  },
  {
   "cell_type": "markdown",
   "metadata": {},
   "source": [
    "# Train, save the model and Validate "
   ]
  },
  {
   "cell_type": "code",
   "execution_count": 27,
   "metadata": {
    "_cell_guid": "7b15bdc9-1794-4eda-9d48-f544be3e382c",
    "_uuid": "f220f61fae1fae8c1cfb2f843300b489937b0090",
    "scrolled": true
   },
   "outputs": [
    {
     "name": "stdout",
     "output_type": "stream",
     "text": [
      "Train on 57636 samples, validate on 14409 samples\n",
      "Epoch 1/5\n",
      "57636/57636 [==============================] - 50s 863us/step - loss: 1.1488 - acc: 0.5762 - val_loss: 0.6534 - val_acc: 0.7794\n",
      "Epoch 2/5\n",
      "57636/57636 [==============================] - 47s 817us/step - loss: 0.5406 - acc: 0.8153 - val_loss: 0.4294 - val_acc: 0.8559\n",
      "Epoch 3/5\n",
      "57636/57636 [==============================] - 46s 799us/step - loss: 0.4140 - acc: 0.8620 - val_loss: 0.3808 - val_acc: 0.8736\n",
      "Epoch 4/5\n",
      "57636/57636 [==============================] - 46s 794us/step - loss: 0.3616 - acc: 0.8809 - val_loss: 0.3607 - val_acc: 0.8819\n",
      "Epoch 5/5\n",
      "57636/57636 [==============================] - 46s 800us/step - loss: 0.3241 - acc: 0.8938 - val_loss: 0.3074 - val_acc: 0.8994\n"
     ]
    }
   ],
   "source": [
    "path_model='model_first_keras.h5' # save model at this location after each epoch\n",
    "K.tensorflow_backend.clear_session() \n",
    "model=get_model() \n",
    "K.set_value(model.optimizer.lr,1e-3) \n",
    "\n",
    "h=model.fit(x=X_train,     \n",
    "            y=y_train, \n",
    "            batch_size=64, \n",
    "            epochs=5, \n",
    "            verbose=1, \n",
    "            validation_data=(X_val,y_val),\n",
    "            shuffle=True,\n",
    "            callbacks=[\n",
    "                ModelCheckpoint(filepath=path_model),\n",
    "            ]\n",
    "            )\n"
   ]
  },
  {
   "cell_type": "markdown",
   "metadata": {},
   "source": [
    "# Make predictions on the testing datas"
   ]
  },
  {
   "cell_type": "code",
   "execution_count": 30,
   "metadata": {
    "_uuid": "3a9be8aca2141ea5a8b597cb79bba180ca725555"
   },
   "outputs": [],
   "source": [
    "predictions_prob=model.predict(X_test_all) "
   ]
  },
  {
   "cell_type": "markdown",
   "metadata": {},
   "source": [
    "Look at random prediction from the testing data"
   ]
  },
  {
   "cell_type": "code",
   "execution_count": 29,
   "metadata": {
    "_uuid": "f161da71ffe8853fbbe24ba4b83ad08183a87590"
   },
   "outputs": [],
   "source": [
    "n_sample=20\n",
    "np.random.seed(42)\n",
    "ind=np.random.randint(0,len(X_test_all), size=n_sample)"
   ]
  },
  {
   "cell_type": "code",
   "execution_count": 31,
   "metadata": {
    "_uuid": "39f97b94480fed8d75c50ba1eea00a5f8f6b8fa9"
   },
   "outputs": [
    {
     "data": {
      "image/png": "[encoded data removed]",
      "text/plain": [
       "<Figure size 1440x432 with 20 Axes>"
      ]
     },
     "metadata": {},
     "output_type": "display_data"
    }
   ],
   "source": [
    "imshow_group(X=X_test_all[ind],y=None,y_pred=predictions_prob[ind])"
   ]
  },
  {
   "cell_type": "markdown",
   "metadata": {},
   "source": [
    "# Make a CSV file from the testng data generated "
   ]
  },
  {
   "cell_type": "code",
   "execution_count": 32,
   "metadata": {
    "_uuid": "127814729b7274f650f514ffa528fd6ffeb3ebcc"
   },
   "outputs": [],
   "source": [
    "labels=[np.argmax(pred) for pred in predictions_prob]"
   ]
  },
  {
   "cell_type": "code",
   "execution_count": 33,
   "metadata": {
    "_uuid": "0755ede1693a11167d26c4c8035252226b3b797d"
   },
   "outputs": [],
   "source": [
    "keys=[get_key(path) for path in paths_test_all ]"
   ]
  },
  {
   "cell_type": "code",
   "execution_count": 34,
   "metadata": {
    "_uuid": "e505c28b44ccc5942280a9777ae2c0c19a1b487c"
   },
   "outputs": [],
   "source": [
    "create_submission(predictions=labels,keys=keys,path='hasib_first_keras.csv')"
   ]
  }
 ],
 "metadata": {
  "kernelspec": {
   "display_name": "Python 3",
   "language": "python",
   "name": "python3"
  },
  "language_info": {
   "codemirror_mode": {
    "name": "ipython",
    "version": 3
   },
   "file_extension": ".py",
   "mimetype": "text/x-python",
   "name": "python",
   "nbconvert_exporter": "python",
   "pygments_lexer": "ipython3",
   "version": "3.4.3"
  }
 },
 "nbformat": 4,
 "nbformat_minor": 1
}
